{
 "cells": [
  {
   "cell_type": "code",
   "execution_count": 1,
   "metadata": {},
   "outputs": [],
   "source": [
    "import numpy as np\n",
    "import multiprocessing\n",
    "import ctypes\n",
    "import logging"
   ]
  },
  {
   "cell_type": "code",
   "execution_count": 2,
   "metadata": {},
   "outputs": [
    {
     "name": "stdout",
     "output_type": "stream",
     "text": [
      "a: [1 2 3 4 5]\n",
      "b: [1 2 3 4 5]\n",
      "a: [ 1 10  3  4  5]\n",
      "b: [ 1 10  3  4  5]\n"
     ]
    }
   ],
   "source": [
    "a = np.array([1, 2, 3, 4, 5])\n",
    "b = np.ndarray(shape=a.shape, dtype=a.dtype, buffer=a)\n",
    "\n",
    "print(\"a:\", a)\n",
    "print(\"b:\", b)\n",
    "\n",
    "# Modify b\n",
    "b[1] = 10\n",
    "print(\"a:\", a)\n",
    "print(\"b:\", b)\n"
   ]
  },
  {
   "cell_type": "code",
   "execution_count": 3,
   "metadata": {},
   "outputs": [],
   "source": [
    "# # Create a bytes object\n",
    "# data = b'\\x01\\x02\\x03\\x04\\x05\\x06\\x07\\x08'\n",
    "\n",
    "# # Create a NumPy array that shares the memory of the bytes object\n",
    "# shared_buffer = np.frombuffer(data, dtype=np.uint8)\n",
    "\n",
    "# print(shared_buffer)"
   ]
  },
  {
   "cell_type": "code",
   "execution_count": 4,
   "metadata": {},
   "outputs": [
    {
     "name": "stdout",
     "output_type": "stream",
     "text": [
      "(7, 10)\n",
      "int16\n",
      "[[0 0 0 0 0 0 0 0 0 0]\n",
      " [0 0 0 0 0 0 0 0 0 0]\n",
      " [0 0 0 0 0 0 0 0 0 0]\n",
      " [0 0 0 0 0 0 0 0 0 0]\n",
      " [0 0 0 0 0 0 0 0 0 0]\n",
      " [0 0 0 0 0 0 0 0 0 0]\n",
      " [0 0 0 0 0 0 0 0 0 0]]\n"
     ]
    }
   ],
   "source": [
    "num_ROIs = 7\n",
    "# num_frames = 600\n",
    "# num_frames = 50\n",
    "num_frames = 10\n",
    "\n",
    "# Create a shared array of 7*600=4200 int16 values\n",
    "shared_buffer = multiprocessing.Array('h', num_ROIs * num_frames)\n",
    "\n",
    "# my_obj = shared_buffer.get_obj()\n",
    "# type(my_obj)\n",
    "\n",
    "# Create a numpy array that uses the shared memory\n",
    "# np_arr = np.ndarray(shape=(num_ROIs, num_frames), dtype=np.int16, buffer=arr)\n",
    "# np_arr = np.frombuffer(my_obj, dtype='int16').reshape(num_ROIs, num_frames)\n",
    "# np_arr = np.frombuffer(my_obj, dtype=np.int16).reshape(num_ROIs, num_frames)\n",
    "# np_arr = np.frombuffer(shared_buffer.get_obj(), dtype='int16').reshape(num_ROIs, num_frames)\n",
    "shared_np_arr = np.frombuffer(shared_buffer.get_obj(), dtype=np.int16).reshape(num_ROIs, num_frames)\n",
    "shared_np_arr.fill(0)\n",
    "\n",
    "print(shared_np_arr.shape)\n",
    "print(shared_np_arr.dtype)\n",
    "print(shared_np_arr)"
   ]
  },
  {
   "cell_type": "code",
   "execution_count": 5,
   "metadata": {},
   "outputs": [],
   "source": [
    "# # Set the values of the NumPy array to 1, 2, 3, ..., 4200\n",
    "# shared_np_arr[:] = np.arange(1, num_ROIs*num_frames+1, dtype=np.int16).reshape((num_ROIs, num_frames))\n",
    "\n",
    "# print(shared_np_arr)"
   ]
  },
  {
   "cell_type": "code",
   "execution_count": 6,
   "metadata": {},
   "outputs": [],
   "source": [
    "# Access and modify the shared array from multiple processes\n",
    "def worker_process(shared_buffer, frame_num):\n",
    "    print(f\"Worker {frame_num} starting...\")\n",
    "\n",
    "    shared_np_arr = np.frombuffer(shared_buffer.get_obj(), dtype=np.int16).reshape(num_ROIs, num_frames)\n",
    "    \n",
    "    shared_np_arr[:, frame_num] = frame_num"
   ]
  },
  {
   "cell_type": "code",
   "execution_count": 7,
   "metadata": {},
   "outputs": [],
   "source": [
    "processes = []\n",
    "\n",
    "for i in range(num_frames):\n",
    "    # Loop through all frames\n",
    "    # print(f\"Creating worker {i}...\")\n",
    "\n",
    "    p = multiprocessing.Process(target=worker_process, args=(shared_buffer, i))\n",
    "    processes.append(p)\n",
    "    p.start()\n",
    "\n",
    "for p in processes:\n",
    "    p.join()\n",
    "\n",
    "# print(shared_buffer[:])"
   ]
  },
  {
   "cell_type": "code",
   "execution_count": 8,
   "metadata": {},
   "outputs": [
    {
     "name": "stdout",
     "output_type": "stream",
     "text": [
      "[[0 0 0 0 0 0 0 0 0 0]\n",
      " [0 0 0 0 0 0 0 0 0 0]\n",
      " [0 0 0 0 0 0 0 0 0 0]\n",
      " [0 0 0 0 0 0 0 0 0 0]\n",
      " [0 0 0 0 0 0 0 0 0 0]\n",
      " [0 0 0 0 0 0 0 0 0 0]\n",
      " [0 0 0 0 0 0 0 0 0 0]]\n"
     ]
    }
   ],
   "source": [
    "print(shared_np_arr)"
   ]
  },
  {
   "cell_type": "code",
   "execution_count": 9,
   "metadata": {},
   "outputs": [
    {
     "name": "stdout",
     "output_type": "stream",
     "text": [
      "[0, 0, 0, 0, 0, 0, 0, 0, 0, 0, 0, 0, 0, 0, 0, 0, 0, 0, 0, 0, 0, 0, 0, 0, 0, 0, 0, 0, 0, 0, 0, 0, 0, 0, 0, 0, 0, 0, 0, 0, 0, 0, 0, 0, 0, 0, 0, 0, 0, 0, 0, 0, 0, 0, 0, 0, 0, 0, 0, 0, 0, 0, 0, 0, 0, 0, 0, 0, 0, 0]\n"
     ]
    }
   ],
   "source": [
    "print(shared_buffer[:])"
   ]
  },
  {
   "cell_type": "code",
   "execution_count": 10,
   "metadata": {},
   "outputs": [],
   "source": [
    "# shared_arr = multiprocessing.Array(ctypes.c_double, 4200)\n",
    "# # ...\n",
    "# def f(i): # could be anything numpy accepts as an index such another numpy array\n",
    "#     with shared_arr.get_lock(): # synchronize access\n",
    "#         arr = np.frombuffer(shared_arr.get_obj()) # no data copying\n",
    "#         arr[i] = -arr[i]"
   ]
  }
 ],
 "metadata": {
  "kernelspec": {
   "display_name": ".env",
   "language": "python",
   "name": "python3"
  },
  "language_info": {
   "codemirror_mode": {
    "name": "ipython",
    "version": 3
   },
   "file_extension": ".py",
   "mimetype": "text/x-python",
   "name": "python",
   "nbconvert_exporter": "python",
   "pygments_lexer": "ipython3",
   "version": "3.10.10"
  },
  "orig_nbformat": 4
 },
 "nbformat": 4,
 "nbformat_minor": 2
}
